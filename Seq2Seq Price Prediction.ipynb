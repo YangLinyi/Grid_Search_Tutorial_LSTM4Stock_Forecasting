{
 "cells": [
  {
   "cell_type": "code",
   "execution_count": 2,
   "metadata": {},
   "outputs": [],
   "source": [
    "import torch\n",
    "torch.multiprocessing.set_start_method('spawn', force=\"True\")\n",
    "import torch.distributions as dist\n",
    "import torch.multiprocessing as mp\n",
    "from __future__ import unicode_literals, print_function, division\n",
    "from io import open\n",
    "import unicodedata\n",
    "import string\n",
    "import re\n",
    "import random\n",
    "\n",
    "import matplotlib.pyplot as plt\n",
    "import torch.nn as nn\n",
    "from torch import optim\n",
    "import torch.nn.functional as F\n",
    "\n",
    "import pandas as pd\n",
    "from tqdm import tqdm_notebook\n",
    "import sklearn\n",
    "\n",
    "import numpy as np"
   ]
  },
  {
   "cell_type": "code",
   "execution_count": 16,
   "metadata": {
    "collapsed": true
   },
   "outputs": [
    {
     "name": "stdout",
     "output_type": "stream",
     "text": [
      "Start to download market data\n",
      "Done\n"
     ]
    },
    {
     "name": "stderr",
     "output_type": "stream",
     "text": [
      "/home/linyi/PortfolioManagement_Graduate/Version2/env_stocks.py:29: FutureWarning: \n",
      "Panel is deprecated and will be removed in a future version.\n",
      "The recommended way to represent these types of 3-dimensional data are with a MultiIndex on a DataFrame, via the Panel.to_frame() method\n",
      "Alternatively, you can use the xarray package http://xarray.pydata.org/en/stable/.\n",
      "Pandas provides a `.to_xarray()` method to help automate this conversion.\n",
      "\n",
      "  self.preprocessed_market_data, self.cleaned_market_data = self._init_market_data(re_download=re_download)\n",
      "/home/linyi/test_project/venv/lib/python3.5/site-packages/pandas/core/generic.py:5382: FutureWarning: \n",
      "Panel is deprecated and will be removed in a future version.\n",
      "The recommended way to represent these types of 3-dimensional data are with a MultiIndex on a DataFrame, via the Panel.to_frame() method\n",
      "Alternatively, you can use the xarray package http://xarray.pydata.org/en/stable/.\n",
      "Pandas provides a `.to_xarray()` method to help automate this conversion.\n",
      "\n",
      "  from_dict(result).__finalize__(self)\n",
      "/home/linyi/test_project/venv/lib/python3.5/site-packages/pandas/core/panel.py:1276: FutureWarning: \n",
      "Panel is deprecated and will be removed in a future version.\n",
      "The recommended way to represent these types of 3-dimensional data are with a MultiIndex on a DataFrame, via the Panel.to_frame() method\n",
      "Alternatively, you can use the xarray package http://xarray.pydata.org/en/stable/.\n",
      "Pandas provides a `.to_xarray()` method to help automate this conversion.\n",
      "\n",
      "  downcast=downcast, **kwargs)\n",
      "/home/linyi/PortfolioManagement_Graduate/Version2/env_stocks.py:127: FutureWarning: \n",
      "Panel is deprecated and will be removed in a future version.\n",
      "The recommended way to represent these types of 3-dimensional data are with a MultiIndex on a DataFrame, via the Panel.to_frame() method\n",
      "Alternatively, you can use the xarray package http://xarray.pydata.org/en/stable/.\n",
      "Pandas provides a `.to_xarray()` method to help automate this conversion.\n",
      "\n",
      "  processed_market_data, cleaned_market_data = StockEnv._pre_process(market_data, open_c='adj_open', close_c='adj_close', high_c='adj_high', low_c='adj_low', volume_c='adj_volume')\n",
      "/home/linyi/test_project/venv/lib/python3.5/site-packages/pandas/core/panel.py:730: FutureWarning: '.reindex_axis' is deprecated and will be removed in a future version. Use '.reindex' instead.\n",
      "  result = self.reindex_axis(new_ax, axis=axis)\n",
      "/home/linyi/test_project/venv/lib/python3.5/site-packages/pandas/core/generic.py:3787: FutureWarning: \n",
      "Panel is deprecated and will be removed in a future version.\n",
      "The recommended way to represent these types of 3-dimensional data are with a MultiIndex on a DataFrame, via the Panel.to_frame() method\n",
      "Alternatively, you can use the xarray package http://xarray.pydata.org/en/stable/.\n",
      "Pandas provides a `.to_xarray()` method to help automate this conversion.\n",
      "\n",
      "  fill_value=fill_value, copy=copy)\n",
      "/home/linyi/test_project/venv/lib/python3.5/site-packages/pandas/core/indexing.py:1147: FutureWarning: \n",
      "Panel is deprecated and will be removed in a future version.\n",
      "The recommended way to represent these types of 3-dimensional data are with a MultiIndex on a DataFrame, via the Panel.to_frame() method\n",
      "Alternatively, you can use the xarray package http://xarray.pydata.org/en/stable/.\n",
      "Pandas provides a `.to_xarray()` method to help automate this conversion.\n",
      "\n",
      "  allow_dups=True)\n"
     ]
    }
   ],
   "source": [
    "# Get your price data here\n",
    "\n",
    "from env_stocks import StockEnv\n",
    "env=StockEnv(api_key='CTq2aKvtCkPPgR4L_NFs',\n",
    "            instruments=['AAPL','MSFT','GOOGL','INTC','CSCO','ORCL','SAP','ADBE','IBM','CRM'],start_date='2016-06-01',end_date='2018-03-01',re_download=True,commission_fee=0.0005)\n",
    "\n",
    "index_train = env.cleaned_market_data.AAPL.index\n",
    "data_train = env.cleaned_market_data.AAPL.adj_close\n",
    "data_train_np = env.cleaned_market_data.AAPL.values\n",
    "data_norm_train = ((data_train - np.mean(data_train)) / (np.std(data_train) + 1e-5))\n",
    "\n",
    "price_data = pd.DataFrame(data_train,index=index_train)\n",
    "#price_data = dict(price_data)\n",
    "#price_data = price_data.to_xarray()\n"
   ]
  },
  {
   "cell_type": "code",
   "execution_count": 11,
   "metadata": {},
   "outputs": [],
   "source": [
    "# Define your network here\n",
    "\n",
    "class NETWORK(nn.Module):\n",
    "    def __init__(self, input_size = 1, rnn_layers=1, dp=0.2, batch_size=64):\n",
    "        \n",
    "        super(NETWORK, self).__init__()\n",
    "        self.input_size = input_size\n",
    "        self.rnn_layers = rnn_layers\n",
    "        self.state_gru = nn.GRU(         # if use nn.RNN(), it hardly learns\n",
    "            input_size=self.input_size,\n",
    "            hidden_size=64,         # rnn hidden unit\n",
    "            num_layers=self.rnn_layers,           # number of rnn layer\n",
    "            batch_first=True,       # input & output will has batch size as 1s dimension. e.g. (batch, time_step, input_size)\n",
    "        )\n",
    "        \n",
    "        # Option: Can add batch normalization layer here\n",
    "        \n",
    "        #self.bn = nn.BatchNorm1d(501,momentum=0.5)\n",
    "        #self.state_1 = nn.Linear(128,128)\n",
    "        #self.bn = nn.BatchNorm1d(8,momentum=0.5)\n",
    "        #self.state_2 = nn.Linear(128, 64)\n",
    "        self.out = nn.Linear(64, 1) \n",
    "        \n",
    "    def forward(self,x,hidden_state):\n",
    "        # x shape (batch, time_step, input_size)\n",
    "        # r_out shape (batch, time_step, output_size)\n",
    "        # h_state shape (n_layers, batch, hidden_size)    \n",
    "        \n",
    "        r_out,hidden_state = self.state_gru(x,hidden_state)\n",
    "        #print(r_out.shape)\n",
    "        #r_out = self.bn(r_out)\n",
    "        outs = []\n",
    "        for time_step in range(r_out.size(1)):\n",
    "            outs.append(self.out(r_out[:,time_step,:]))\n",
    "    \n",
    "        return torch.stack(outs, dim=1), hidden_state"
   ]
  },
  {
   "cell_type": "code",
   "execution_count": 20,
   "metadata": {},
   "outputs": [],
   "source": [
    "# Generate your sequence data here\n",
    "# For example, using 0-6 days' price to predict the 1-7 days' price;\n",
    "\n",
    "def generate_data(index,price):\n",
    "    training_length = 7\n",
    "    train_x = []\n",
    "    train_y = []\n",
    "\n",
    "    for step,pointer in enumerate(index):\n",
    "        next_date = index[step+training_length]\n",
    "        price_data = price.loc[index[step]:next_date]\n",
    "        train_x.append((price_data[:-1]))\n",
    "        train_y.append((price_data[1:]))\n",
    "        if step%50 == 0:\n",
    "            print(step)\n",
    "        if step==len(index)-8:\n",
    "            break\n",
    "    return train_x,train_y\n"
   ]
  },
  {
   "cell_type": "code",
   "execution_count": 21,
   "metadata": {},
   "outputs": [
    {
     "name": "stdout",
     "output_type": "stream",
     "text": [
      "0\n",
      "50\n",
      "100\n",
      "150\n",
      "200\n",
      "250\n",
      "300\n",
      "350\n",
      "400\n"
     ]
    }
   ],
   "source": [
    "train_x,train_y = generate_data(index_train,data_train)"
   ]
  },
  {
   "cell_type": "code",
   "execution_count": null,
   "metadata": {},
   "outputs": [],
   "source": [
    "# Convert data type from numpy to tensor\n",
    "train_x,train_y = np.asarray(train_x),np.asarray(train_y)\n",
    "# Make sure your data size is divisible by batch size\n",
    "train_x,train_y = train_x[:400],train_y[:400]\n",
    "\n",
    "# Divide your dataset into a few bathces\n",
    "import torch.utils.data as Data\n",
    "train_x, train_y = torch.from_numpy(train_x).float().cuda(), torch.from_numpy(train_y).float().cuda()\n",
    "train_x = torch.unsqueeze(train_x,2)\n",
    "train_y = torch.unsqueeze(train_y,2)\n",
    "train_dataset = Data.TensorDataset(train_x, train_y)\n",
    "train_loader = Data.DataLoader(dataset=train_dataset, batch_size=10, shuffle=False, num_workers=1)"
   ]
  },
  {
   "cell_type": "code",
   "execution_count": null,
   "metadata": {},
   "outputs": [],
   "source": [
    "# Initialize gru network\n",
    "rnn = NETWORK(input_size=1).cuda()"
   ]
  },
  {
   "cell_type": "code",
   "execution_count": null,
   "metadata": {},
   "outputs": [],
   "source": [
    "# Train your network\n",
    "\n",
    "%matplotlib inline\n",
    "hidden_state = None\n",
    "LR = 1e-3\n",
    "EPOCH = 100\n",
    "batch_size=10\n",
    "optimizer = torch.optim.Adam(rnn.parameters(), lr=LR)   # optimize all cnn parameters\n",
    "loss_func = nn.MSELoss()\n",
    "\n",
    "for epoch in tqdm_notebook(range(EPOCH)):\n",
    "    predictions = []\n",
    "    total_loss = 0\n",
    "    for step,(b_x,b_y) in enumerate(train_loader):\n",
    "        #print(b_x.shape)\n",
    "        prediction, hidden_state = rnn(b_x, hidden_state)\n",
    "        predictions.append(prediction)\n",
    "\n",
    "        hidden_state = hidden_state.cuda().data\n",
    "        loss = loss_func(prediction,b_y)\n",
    "        optimizer.zero_grad()\n",
    "        loss.backward()\n",
    "        optimizer.step()\n",
    "        total_loss += loss\n",
    "    print('Epoch: ', epoch, 'Train Loss: ', total_loss)\n",
    "    predictions = torch.stack(predictions,dim=0)"
   ]
  },
  {
   "cell_type": "code",
   "execution_count": null,
   "metadata": {},
   "outputs": [],
   "source": [
    "# Generate your test data again, repeat the steps before and test your data.\n",
    "\n",
    "def generate_test_data(index,price):\n",
    "    training_length = 7\n",
    "    train_x = []\n",
    "    train_y = []\n",
    "\n",
    "    for step,pointer in enumerate(index):\n",
    "        next_date = index[step+training_length]\n",
    "        price_data = price.loc[index[step]:next_date]\n",
    "        train_x.append((price_data[:-1]))\n",
    "        train_y.append((price_data[1:]))\n",
    "        if step%50 == 0:\n",
    "            print(step)\n",
    "        if step==len(index)-8:\n",
    "            break\n",
    "    return train_x,train_y\n",
    "\n",
    "test_x,test_y = generate_data(index_test,data_test)\n",
    "\n",
    "# Test\n",
    "with torch.no_grad():\n",
    "    \n",
    "    prediction, h_state = rnn(test_x, h_state)   # rnn output\n",
    "    # !! next step is important !!\n",
    "    h_state = h_state.data   \n",
    "    # plotting\n",
    "    plt.plot(index_test[1:], test_y, 'r-')\n",
    "    plt.plot(index_test[1:], prediction.cpu().data.numpy().flatten(), 'b-')\n",
    "    plt.draw(); plt.pause(0.05)"
   ]
  }
 ],
 "metadata": {
  "kernelspec": {
   "display_name": "Python 3",
   "language": "python",
   "name": "python3"
  },
  "language_info": {
   "codemirror_mode": {
    "name": "ipython",
    "version": 3
   },
   "file_extension": ".py",
   "mimetype": "text/x-python",
   "name": "python",
   "nbconvert_exporter": "python",
   "pygments_lexer": "ipython3",
   "version": "3.5.2"
  },
  "toc": {
   "base_numbering": 1,
   "nav_menu": {},
   "number_sections": true,
   "sideBar": true,
   "skip_h1_title": false,
   "title_cell": "Table of Contents",
   "title_sidebar": "Contents",
   "toc_cell": false,
   "toc_position": {},
   "toc_section_display": true,
   "toc_window_display": false
  }
 },
 "nbformat": 4,
 "nbformat_minor": 2
}
